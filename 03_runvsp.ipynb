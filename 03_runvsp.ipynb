{
 "cells": [
  {
   "cell_type": "markdown",
   "id": "28342d81-dfd2-452a-ae2a-1c37966fac33",
   "metadata": {},
   "source": [
    "# 1. Load in libraries and define functions"
   ]
  },
  {
   "cell_type": "code",
   "execution_count": 14,
   "id": "a71b3f6a-8117-4a91-abf5-60c5dcccd34c",
   "metadata": {},
   "outputs": [],
   "source": [
    "library(arrow)\n",
    "library(lubridate)\n",
    "library(data.table)\n",
    "library(ggplot2)\n",
    "library(stringr)\n",
    "library(aricode)\n",
    "library(dplyr)\n",
    "library(bit64)\n",
    "library(scales)\n",
    "library(Matrix)\n",
    "library(vsp)\n",
    "library(tidyr)\n",
    "library(Hmisc)\n",
    "library(patchwork)\n",
    "theme_set(theme_bw(20))\n",
    "options(arrow.skip_nul = TRUE)"
   ]
  },
  {
   "cell_type": "code",
   "execution_count": 3,
   "id": "795a1cdf-b23a-4f8f-a58f-4f21cc00b6ed",
   "metadata": {},
   "outputs": [],
   "source": [
    "gen_vals <- function(y_or_z,k){\n",
    "    return(paste0(y_or_z,str_pad(1:k,floor(log10(k)) + 1, pad=\"0\"))) \n",
    "}\n",
    "    \n",
    "run_vsp <- function(data, nodes_name, items_name, y_mg_df=NULL, \n",
    "                    z_mg_df=NULL, weight_col=NULL, \n",
    "                    k=25,center=F){\n",
    "    \n",
    "    node_df <- data.table(node=unique(data[,get(nodes_name)]),\n",
    "                    node_idv=1:length(unique(data[,get(nodes_name)])))\n",
    "    item_df <- data.table(item=unique(data[,get(items_name)]),\n",
    "                    item_idv = 1:length(unique(data[,get(items_name)])))\n",
    "\n",
    "    node_item_net <- merge(data,node_df,by.x=nodes_name, by.y=\"node\")\n",
    "    node_item_net <- merge(node_item_net,item_df,by.x=items_name,by.y=\"item\")\n",
    "    \n",
    "    mat <- sparseMatrix(i = node_item_net$node_idv,\n",
    "                        j = node_item_net$item_idv,\n",
    "                        x = ifelse(is.null(weight_col), 1, node_item_net[,get(weight_col)])\n",
    "                        )\n",
    "\n",
    "    fa <- vsp(mat, rank = k, center=center)\n",
    "    \n",
    "    y <- data.table(get_varimax_y(fa))\n",
    "    y$item_idv <- as.integer(sub(\"col\",\"\",y$id))\n",
    "    ymg <- merge(item_df, y, by=\"item_idv\")\n",
    "    setnames(ymg, \"item\",items_name)\n",
    "    ymg$grp <- unname(apply(ymg[,gen_vals(\"y\",k),with=F], 1, which.max))\n",
    "    if(!is.null(y_mg_df)){\n",
    "        ymg <- merge(ymg, \n",
    "             y_mg_df,\n",
    "             by=items_name)\n",
    "    }\n",
    "    \n",
    "    z <- data.table(get_varimax_z(fa))\n",
    "    z$node_idv <- as.integer(sub(\"row\",\"\",z$id))\n",
    "    zmg <- merge(node_df, z, by=\"node_idv\")\n",
    "    setnames(zmg, \"node\",nodes_name)\n",
    "    zmg$grp <- unname(apply(zmg[,gen_vals(\"z\",k),with=F], 1, which.max))\n",
    "    if(!is.null(z_mg_df)){\n",
    "        zmg <- merge(zmg, \n",
    "             z_mg_df,\n",
    "             by=nodes_name)\n",
    "    }\n",
    "    return(list(vsp_res=fa,\n",
    "                ymg = ymg,\n",
    "                zmg = zmg\n",
    "                )\n",
    "           )\n",
    "\n",
    "}\n"
   ]
  },
  {
   "cell_type": "markdown",
   "id": "a0f789c8-0a38-4ae2-a5b5-e973f6120aee",
   "metadata": {},
   "source": [
    "# 2. Clustering on RT - UID to identify Bernie Supporters \n",
    "\n",
    "In other words, run VSP on the who retweets whom network"
   ]
  },
  {
   "cell_type": "code",
   "execution_count": 4,
   "id": "fd77d6cd-458d-4047-8920-998552f54f62",
   "metadata": {},
   "outputs": [
    {
     "name": "stderr",
     "output_type": "stream",
     "text": [
      "Warning message:\n",
      "“Stripping '\\0' (nul) from character vector”\n",
      "Warning message:\n",
      "“Stripping '\\0' (nul) from character vector”\n",
      "Warning message:\n",
      "“Stripping '\\0' (nul) from character vector”\n",
      "Warning message:\n",
      "“Stripping '\\0' (nul) from character vector”\n",
      "Warning message:\n",
      "“Stripping '\\0' (nul) from character vector”\n",
      "Warning message:\n",
      "“Stripping '\\0' (nul) from character vector”\n",
      "Warning message:\n",
      "“Stripping '\\0' (nul) from character vector”\n",
      "Warning message:\n",
      "“Stripping '\\0' (nul) from character vector”\n",
      "Warning message:\n",
      "“Stripping '\\0' (nul) from character vector”\n",
      "Warning message:\n",
      "“Stripping '\\0' (nul) from character vector”\n",
      "Warning message:\n",
      "“Stripping '\\0' (nul) from character vector”\n",
      "Warning message:\n",
      "“Stripping '\\0' (nul) from character vector”\n",
      "Warning message:\n",
      "“Stripping '\\0' (nul) from character vector”\n"
     ]
    }
   ],
   "source": [
    "user_data <- rbindlist(lapply(Sys.glob(\"/data/dnc2020/user_descript/part-*.parquet\"),read_parquet))\n",
    "user_data <- user_data[!duplicated(uid)]"
   ]
  },
  {
   "cell_type": "code",
   "execution_count": 7,
   "id": "d22306bb-f20f-40cc-959b-2c7697c28a93",
   "metadata": {},
   "outputs": [],
   "source": [
    "rt_uid_net <-rbindlist(lapply(Sys.glob(\"data/trimmed_rtnet/part-*.parquet\"), read_parquet))"
   ]
  },
  {
   "cell_type": "code",
   "execution_count": null,
   "id": "13f6bead-55ea-4398-a647-6fbc547bc691",
   "metadata": {},
   "outputs": [],
   "source": [
    "clust_len <- c(5,10,15,20,25,30, 35,40,45,50,55,60)\n",
    "\n",
    "# get all clusterings\n",
    "reslist <- list()\n",
    "for(k in clust_len){\n",
    "    print(k)\n",
    "    res <- run_vsp(rt_uid_net,\n",
    "               nodes_name=\"uid\",\n",
    "               items_name=\"rt_uid\",\n",
    "               weight_col = \"rt_times\",\n",
    "               z_mg_df = user_data,\n",
    "               k=k,\n",
    "               center=F)\n",
    "    res$ymg <- merge(res$ymg, user_data, by.x=\"rt_uid\", by.y=\"uid\")\n",
    "    reslist[[k]] <- res\n",
    "}\n"
   ]
  },
  {
   "cell_type": "code",
   "execution_count": 730,
   "id": "3e174dd5-bbfd-4ab1-b4ca-de8cf0d22a27",
   "metadata": {},
   "outputs": [
    {
     "name": "stderr",
     "output_type": "stream",
     "text": [
      "Warning message in merge.data.table(r1, r2, by = \"uid\"):\n",
      "“You are trying to join data.tables where 'y' argument is 0 columns data.table.”\n"
     ]
    },
    {
     "ename": "ERROR",
     "evalue": "Error in merge.data.table(r1, r2, by = \"uid\"): Elements listed in `by` must be valid column names in x and y\n",
     "output_type": "error",
     "traceback": [
      "Error in merge.data.table(r1, r2, by = \"uid\"): Elements listed in `by` must be valid column names in x and y\nTraceback:\n",
      "1. merge(r1, r2, by = \"uid\")",
      "2. merge.data.table(r1, r2, by = \"uid\")",
      "3. stop(\"Elements listed in `by` must be valid column names in x and y\")"
     ]
    }
   ],
   "source": [
    "# compute AMIs/ARIs\n",
    "ami_dat <- data.frame()\n",
    "for(i in 1:(length(clust_len)-1)){\n",
    "    for(j in (i+1):length(clust_len)){\n",
    "        r1 <- reslist[[clust_len[i]]]$zmg[,.(uid, grp)]\n",
    "        r2 <- reslist[[clust_len[j]]]$zmg[,.(uid, grp)]\n",
    "        mg <- merge(r1,r2, by='uid')\n",
    "        ami_dat <- rbind(ami_dat, data.frame(i=clust_len[i],j=clust_len[j], \n",
    "                                             ami=AMI(mg$grp.x, mg$grp.y),\n",
    "                                             ari=ARI(mg$grp.x,mg$grp.y),\n",
    "                                             nmi = NMI(mg$grp.x,mg$grp.y)))\n",
    "        ami_dat <- rbind(ami_dat, data.frame(i=clust_len[j],j=clust_len[i], \n",
    "                                             ami=AMI(mg$grp.x, mg$grp.y),\n",
    "                                             ari=ARI(mg$grp.x,mg$grp.y),\n",
    "                                             nmi = NMI(mg$grp.x,mg$grp.y)))\n",
    "    }\n",
    "}"
   ]
  },
  {
   "cell_type": "code",
   "execution_count": 738,
   "id": "881bd6db-e7a0-4dd6-96ed-f49a7133d800",
   "metadata": {},
   "outputs": [],
   "source": [
    "options(repr.plot.width = 5, repr.plot.height = 5)\n",
    "\n",
    "ami_dat <- data.table(ami_dat)\n",
    "\n",
    "res <- ami_dat[, as.list(smean.cl.boot(ami,conf.int = .66)), by=i]\n"
   ]
  },
  {
   "cell_type": "code",
   "execution_count": 737,
   "id": "8ca637e6-c80f-41dd-ba36-f12c744a2cf6",
   "metadata": {},
   "outputs": [],
   "source": [
    "\n",
    "pl <- ggplot(res, aes(factor(i), Mean, ymin=Lower, ymax=Upper)) +\n",
    "geom_pointrange() + \n",
    "ylab(\"Adjusted Mutual Information\") +\n",
    "xlab(\"Setting for k in VSP\")\n",
    "ggsave(\"ami_whortwho.pdf\", h=5,w=5)"
   ]
  },
  {
   "cell_type": "code",
   "execution_count": 84,
   "id": "23f103b1-b951-4fca-8f71-b87c68cf2d0f",
   "metadata": {},
   "outputs": [],
   "source": [
    "library(stringr)\n",
    "library(writexl)\n",
    "kval = 35\n",
    "file_name <- paste0(\"data/results_new_\",kval,\".xlsx\")\n",
    "\n",
    "sheets <- list()\n",
    "\n",
    "for(grp_num in 1:kval){\n",
    "    grp_str <- paste0(\"y\",str_pad(grp_num, width = 2, \"left\",\"0\"))\n",
    "    influencers <- reslist[[k]]$ymg[grp == grp_num][order(-get(grp_str))][1:30][,.(rt_uid,username, description)]\n",
    "    influencers$utype <- \"influencer\"\n",
    "    setnames(influencers, \"rt_uid\", \"uid\")\n",
    "    \n",
    "    grp_str <- paste0(\"z\",str_pad(grp_num, width = 2, \"left\",\"0\"))\n",
    "    ord <- reslist[[k]]$zmg[grp == grp_num][order(-get(grp_str))][1:30][,.(uid,username, description)]\n",
    "    ord$utype <- \"ordinary\"\n",
    "    \n",
    "    dat <- rbind(influencers, ord)\n",
    "    dat$url <- paste0(\"https://twitter.com/intent/user?user_id=\", dat$uid)\n",
    "    dat$uid <- NULL\n",
    "    sheets[[paste(\"Group\", grp_num)]] = dat\n",
    "}\n",
    "    \n",
    "write_xlsx(sheets, file_name)\n"
   ]
  },
  {
   "cell_type": "code",
   "execution_count": 19,
   "id": "c112587c-d68d-4625-a4f6-311fb66a97e1",
   "metadata": {},
   "outputs": [],
   "source": [
    "save(reslist, file=\"data/rtnet_clustering.rdata\")"
   ]
  },
  {
   "cell_type": "markdown",
   "id": "770e68f5-2668-43e1-a22a-9ca2714f3932",
   "metadata": {},
   "source": [
    "# 3. Perform qualitative analysis\n",
    "\n",
    "Our analysis of AMI plots suggested that 35 clusters was an appropriate number for analysis.  Moreover, our qualitative analysis, described in the paper, surfaces groups 3, 5, 11, 19, and 27 as the groups that contained predominantly Bernie supporters. We therefore shift to focusing on these clusters of Twitter users, with `k=35` for VSP, in the code below."
   ]
  },
  {
   "cell_type": "markdown",
   "id": "b135bab6-b83c-4b86-8322-3f22da517262",
   "metadata": {},
   "source": [
    "# 4. Write out Bernie supporting accounts"
   ]
  },
  {
   "cell_type": "code",
   "execution_count": 8,
   "id": "3352995b-459d-4da1-83c4-6932879b4cc6",
   "metadata": {},
   "outputs": [
    {
     "data": {
      "text/html": [
       "237477"
      ],
      "text/latex": [
       "237477"
      ],
      "text/markdown": [
       "237477"
      ],
      "text/plain": [
       "[1] 237477"
      ]
     },
     "metadata": {},
     "output_type": "display_data"
    }
   ],
   "source": [
    "nrow(reslist[[35]]$zmg[grp %in% c(3,5,11,19,27)])"
   ]
  },
  {
   "cell_type": "code",
   "execution_count": 16,
   "id": "494cfa4f-d3cc-4a64-9db3-043996508353",
   "metadata": {},
   "outputs": [],
   "source": [
    "write.table(reslist[[35]]$zmg[grp %in% c(3,5,11,19,27),\"uid\",with=F], \n",
    "            \"/data/dnc2020/bernie_vsp.csv\", row.names=F,  quote=F)"
   ]
  },
  {
   "cell_type": "code",
   "execution_count": 59,
   "id": "ac226c6a-921c-4c50-aea3-5d6b6943cb4b",
   "metadata": {},
   "outputs": [],
   "source": [
    "write.table(reslist[[35]]$zmg[,.(uid,grp)], \n",
    "            \"/data/dnc2020/bernie_clustering.csv\", \n",
    "            row.names=F,  \n",
    "            quote=F)"
   ]
  },
  {
   "cell_type": "code",
   "execution_count": 14,
   "id": "8c608b12-2bc7-4f5d-9441-1e24cb1cbc40",
   "metadata": {},
   "outputs": [],
   "source": [
    "write.table(d, \"data/bernie_vsp_yz.csv\", row.names=F,  quote=F)"
   ]
  },
  {
   "cell_type": "markdown",
   "id": "f558ed15-18f9-4df6-9e66-6970427a4d2a",
   "metadata": {},
   "source": [
    "# 5. Clustering on Who Retweets What\n",
    "\n"
   ]
  },
  {
   "cell_type": "code",
   "execution_count": null,
   "id": "75f6fd4e-5028-4403-9096-2b298a526fc7",
   "metadata": {},
   "outputs": [],
   "source": [
    "# Reload, in case you want to start here\n",
    "load(\"data/rtnet_clustering.rdata\")\n",
    "\n"
   ]
  },
  {
   "cell_type": "code",
   "execution_count": 6,
   "id": "b48d0a91-5e9d-4acf-95fd-2e399065173b",
   "metadata": {},
   "outputs": [
    {
     "data": {
      "text/html": [
       "<style>\n",
       ".list-inline {list-style: none; margin:0; padding: 0}\n",
       ".list-inline>li {display: inline-block}\n",
       ".list-inline>li:not(:last-child)::after {content: \"\\00b7\"; padding: 0 .5ex}\n",
       "</style>\n",
       "<ol class=list-inline><li>3080250</li><li>3</li></ol>\n"
      ],
      "text/latex": [
       "\\begin{enumerate*}\n",
       "\\item 3080250\n",
       "\\item 3\n",
       "\\end{enumerate*}\n"
      ],
      "text/markdown": [
       "1. 3080250\n",
       "2. 3\n",
       "\n",
       "\n"
      ],
      "text/plain": [
       "[1] 3080250       3"
      ]
     },
     "metadata": {},
     "output_type": "display_data"
    }
   ],
   "source": [
    "### Note::: This data gets written out in Step 1 of the script\n",
    "# 04_post_vsp_dataprocessing.ipynb. Sorry, there wasn't a clean\n",
    "# way to represent this back and forth without making things\n",
    "# more confusing (IMO).\n",
    "rt_text <-rbindlist(lapply(Sys.glob(\"/data/dnc2020/tweets_clustering/part-*.parquet\"), \n",
    "                           read_parquet,col_select=c(\"rt_id\",\"text\",\"created_at\")))\n",
    "rt_text <- rt_text[!duplicated(rt_id)]\n",
    "rt_text <- rt_text[!is.na(rt_id)]\n",
    "dim(rt_text)"
   ]
  },
  {
   "cell_type": "code",
   "execution_count": 7,
   "id": "04a98566-d9aa-475a-b732-c884015700a4",
   "metadata": {},
   "outputs": [],
   "source": [
    "bernie_tweets <-rbindlist(lapply(Sys.glob(\"/data/dnc2020/tweets_clustering/part-*.parquet\"), \n",
    "                     read_parquet,\n",
    "                     col_select=c(\"uid\",\"created_at\",\"rt_id\")))\n",
    "bernie_tweets[, period := ifelse(created_at < as.numeric(as.POSIXct(\"2020-03-02 11:59:59 EST\")),\n",
    "                                  \"Pre Super Tuesday\",\n",
    "           ifelse(created_at < as.numeric(as.POSIXct(\"2020-08-16 11:59:59 EST\")),\n",
    "                                  \"Pre Convention\", \"Post Convention\"))]\n",
    "bernie_tweets[, dt := as.Date(as_datetime(created_at))]\n",
    "bernie_tweets <- bernie_tweets[!is.na(rt_id)]\n",
    "bernie_tweets[, uid:= as.integer64(uid)]"
   ]
  },
  {
   "cell_type": "code",
   "execution_count": 8,
   "id": "0ebca810-e5ff-4321-98bb-c7a0f4b433e5",
   "metadata": {},
   "outputs": [
    {
     "data": {
      "text/html": [
       "237477"
      ],
      "text/latex": [
       "237477"
      ],
      "text/markdown": [
       "237477"
      ],
      "text/plain": [
       "[1] 237477"
      ]
     },
     "metadata": {},
     "output_type": "display_data"
    }
   ],
   "source": [
    "length(unique(bernie_tweets$uid))"
   ]
  },
  {
   "cell_type": "code",
   "execution_count": 9,
   "id": "f8fd0b14-6549-4b17-9594-b5f49bf6b41d",
   "metadata": {},
   "outputs": [
    {
     "data": {
      "text/html": [
       "<table class=\"dataframe\">\n",
       "<caption>A data.table: 3 × 2</caption>\n",
       "<thead>\n",
       "\t<tr><th scope=col>period</th><th scope=col>N</th></tr>\n",
       "\t<tr><th scope=col>&lt;chr&gt;</th><th scope=col>&lt;int&gt;</th></tr>\n",
       "</thead>\n",
       "<tbody>\n",
       "\t<tr><td>Pre Convention   </td><td>23737</td></tr>\n",
       "\t<tr><td>Post Convention  </td><td> 8849</td></tr>\n",
       "\t<tr><td>Pre Super Tuesday</td><td>15893</td></tr>\n",
       "</tbody>\n",
       "</table>\n"
      ],
      "text/latex": [
       "A data.table: 3 × 2\n",
       "\\begin{tabular}{ll}\n",
       " period & N\\\\\n",
       " <chr> & <int>\\\\\n",
       "\\hline\n",
       "\t Pre Convention    & 23737\\\\\n",
       "\t Post Convention   &  8849\\\\\n",
       "\t Pre Super Tuesday & 15893\\\\\n",
       "\\end{tabular}\n"
      ],
      "text/markdown": [
       "\n",
       "A data.table: 3 × 2\n",
       "\n",
       "| period &lt;chr&gt; | N &lt;int&gt; |\n",
       "|---|---|\n",
       "| Pre Convention    | 23737 |\n",
       "| Post Convention   |  8849 |\n",
       "| Pre Super Tuesday | 15893 |\n",
       "\n"
      ],
      "text/plain": [
       "  period            N    \n",
       "1 Pre Convention    23737\n",
       "2 Post Convention    8849\n",
       "3 Pre Super Tuesday 15893"
      ]
     },
     "metadata": {},
     "output_type": "display_data"
    }
   ],
   "source": [
    "rt_cnt_period <- bernie_tweets[,.N,by=.(rt_id,period)]\n",
    "rt_cnt_period[N > 100, .N, by=period]"
   ]
  },
  {
   "cell_type": "code",
   "execution_count": 10,
   "id": "65ade6c3-2456-41c7-bdc7-4b59935d7091",
   "metadata": {},
   "outputs": [],
   "source": [
    "rt_cnt <- bernie_tweets[,.N,by=.(rt_id)]\n",
    "rtmin <- bernie_tweets[rt_id %in% rt_cnt[N > 100,]$rt_id]\n",
    "rtm <- rtmin[, length(unique(rt_id)), by=.(uid)]"
   ]
  },
  {
   "cell_type": "code",
   "execution_count": 11,
   "id": "9f5e0ed3-50a4-4382-bf2e-0e8069ebc883",
   "metadata": {},
   "outputs": [],
   "source": [
    "pre_u <- rtm[V1 > 10]$uid\n",
    "pre_rt <- rt_cnt[N > 250]$rt_id"
   ]
  },
  {
   "cell_type": "code",
   "execution_count": 12,
   "id": "6c2ecd72-8ea7-4185-b87c-12cde33ab40c",
   "metadata": {},
   "outputs": [
    {
     "data": {
      "text/html": [
       "213645"
      ],
      "text/latex": [
       "213645"
      ],
      "text/markdown": [
       "213645"
      ],
      "text/plain": [
       "[1] 213645"
      ]
     },
     "metadata": {},
     "output_type": "display_data"
    }
   ],
   "source": [
    "length(pre_u)"
   ]
  },
  {
   "cell_type": "code",
   "execution_count": 13,
   "id": "282b33d3-d38d-41ab-8463-eb50a484d9f7",
   "metadata": {},
   "outputs": [
    {
     "data": {
      "text/html": [
       "21901"
      ],
      "text/latex": [
       "21901"
      ],
      "text/markdown": [
       "21901"
      ],
      "text/plain": [
       "[1] 21901"
      ]
     },
     "metadata": {},
     "output_type": "display_data"
    }
   ],
   "source": [
    "length(pre_rt)"
   ]
  },
  {
   "cell_type": "code",
   "execution_count": 14,
   "id": "d0350e14-1cde-4783-950b-1fded15c0b39",
   "metadata": {},
   "outputs": [],
   "source": [
    "bernie_min <- bernie_tweets[rt_id %in% pre_rt & uid %in% pre_u]"
   ]
  },
  {
   "cell_type": "code",
   "execution_count": null,
   "id": "5c0ca710-aa03-486c-a66e-128d66c2cb62",
   "metadata": {},
   "outputs": [],
   "source": [
    "clust_len <- c(5,8,10,12,15,18,20,23,25,28,30)\n",
    "\n",
    "# get all clusterings\n",
    "bernie_reslist <- list()\n",
    "for(k in clust_len){\n",
    "    print(k)\n",
    "    res <- run_vsp(bernie_min,\n",
    "               nodes_name=\"uid\",\n",
    "               items_name=\"rt_id\",\n",
    "               y_mg_df = rt_text,\n",
    "               z_mg_df = user_data,\n",
    "               k=k,\n",
    "               center=T)\n",
    "    bernie_reslist[[k]] <- res\n",
    "}\n"
   ]
  },
  {
   "cell_type": "code",
   "execution_count": 34,
   "id": "fc82a5d9-b205-4036-8eec-7e35789c0983",
   "metadata": {},
   "outputs": [],
   "source": [
    "save(bernie_reslist, file= \"data/rt_tweet_clustering.rdata\")"
   ]
  },
  {
   "cell_type": "code",
   "execution_count": 740,
   "id": "d973f8d3-1bb7-453a-9c78-8160047287ef",
   "metadata": {},
   "outputs": [],
   "source": [
    "# compute AMIs/ARIs\n",
    "clust_len <- c(5,8,10,12,15,18,20,23,25,28,30)\n",
    "\n",
    "ami_dat <- data.frame()\n",
    "for(i in 1:(length(clust_len)-1)){\n",
    "    for(j in (i+1):length(clust_len)){\n",
    "        r1 <- bernie_reslist[[clust_len[i]]]$zmg[,.(uid, grp)]\n",
    "        r2 <- bernie_reslist[[clust_len[j]]]$zmg[,.(uid, grp)]\n",
    "        mg <- merge(r1,r2, by='uid')\n",
    "        ami_dat <- rbind(ami_dat, data.frame(i=clust_len[i],j=clust_len[j], \n",
    "                                             ami=AMI(mg$grp.x, mg$grp.y),\n",
    "                                             ari=ARI(mg$grp.x,mg$grp.y),\n",
    "                                             nmi = NMI(mg$grp.x,mg$grp.y)))\n",
    "        ami_dat <- rbind(ami_dat, data.frame(i=clust_len[j],j=clust_len[i], \n",
    "                                             ami=AMI(mg$grp.x, mg$grp.y),\n",
    "                                             ari=ARI(mg$grp.x,mg$grp.y),\n",
    "                                             nmi = NMI(mg$grp.x,mg$grp.y)))\n",
    "    }\n",
    "}"
   ]
  },
  {
   "cell_type": "code",
   "execution_count": 741,
   "id": "c674cb1a-44da-465e-9d8b-1e5a7b102437",
   "metadata": {},
   "outputs": [],
   "source": [
    "options(repr.plot.width = 5, repr.plot.height = 5)\n",
    "\n",
    "library(Hmisc)\n",
    "ami_dat <- data.table(ami_dat)\n",
    "\n",
    "res <- ami_dat[, as.list(smean.cl.boot(ami,conf.int = .66)), by=i]\n",
    "pl <- ggplot(res, aes(factor(i), Mean, ymin=Lower, ymax=Upper)) +\n",
    "geom_pointrange() + ylab(\"Adjusted Mutual Information\") + \n",
    "xlab(\"Setting for k in VSP\")\n",
    "ggsave(\"plots/ami_whortswhat.pdf\",pl,h=5,w=5)"
   ]
  },
  {
   "cell_type": "code",
   "execution_count": 47,
   "id": "3258df75-4193-48c6-9fe2-fa79f0efac82",
   "metadata": {},
   "outputs": [],
   "source": [
    "kval = 20\n",
    "data <- bernie_reslist[[kval]]$ymg[grp %in% which(table(bernie_reslist[[kval]]$zmg$grp) > 1000)]"
   ]
  },
  {
   "cell_type": "code",
   "execution_count": 34,
   "id": "36d14f3b-f00b-4853-add7-b4a8563b7bda",
   "metadata": {},
   "outputs": [],
   "source": [
    "library(data.table)\n",
    "library(stringr)\n",
    "kval = 20\n",
    "data <- bernie_reslist[[kval]]$ymg[grp %in% which(table(bernie_reslist[[kval]]$zmg$grp) > 1000)]\n",
    "data[, date_val := as.Date(as_datetime(created_at))]\n",
    "full_dat <- data.table()\n",
    "for(grp_num in sort(unique(data$grp))){\n",
    "    grp_str <- paste0(\"y\",str_pad(grp_num, width = 2, \"left\",\"0\"))\n",
    "    dat <- data[grp == grp_num][order(-get(grp_str))][1:20][,.(rt_id, text,date_val)]\n",
    "    dat$url <- paste0(\"https://twitter.com/_kenny_joseph/status/\", dat$rt_id)\n",
    "    dat$cluster_number <- grp_num\n",
    "    full_dat <- rbind(full_dat,dat)\n",
    "}\n",
    "\n"
   ]
  },
  {
   "cell_type": "code",
   "execution_count": null,
   "id": "60648b28-040a-45dd-93b6-3e5f0beda842",
   "metadata": {},
   "outputs": [],
   "source": [
    "# Qualitative analysis was then performed again\n",
    "write.csv(full_dat[sample(1:nrow(full_dat)), ], \"data/for_qualitative_coding.csv\", row.names=F)"
   ]
  }
 ],
 "metadata": {
  "kernelspec": {
   "display_name": "R",
   "language": "R",
   "name": "ir"
  },
  "language_info": {
   "codemirror_mode": "r",
   "file_extension": ".r",
   "mimetype": "text/x-r-source",
   "name": "R",
   "pygments_lexer": "r",
   "version": "4.2.2"
  }
 },
 "nbformat": 4,
 "nbformat_minor": 5
}
